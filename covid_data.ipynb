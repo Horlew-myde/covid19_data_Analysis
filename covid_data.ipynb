{
 "cells": [
  {
   "cell_type": "code",
   "execution_count": 136,
   "id": "4ef54a45",
   "metadata": {
    "scrolled": true
   },
   "outputs": [],
   "source": [
    "import numpy as np\n",
    "import pandas as pd\n",
    "import matplotlib.pyplot as plt\n",
    "import seaborn as sb\n",
    "\n",
    "%matplotlib inline\n",
    "import warnings\n",
    "warnings.filterwarnings('ignore')"
   ]
  },
  {
   "cell_type": "code",
   "execution_count": 137,
   "id": "3bf3efa7",
   "metadata": {
    "scrolled": true
   },
   "outputs": [],
   "source": [
    "covid_df = pd.read_csv('covid_data.csv')"
   ]
  },
  {
   "cell_type": "code",
   "execution_count": 138,
   "id": "e2b8ec82",
   "metadata": {
    "scrolled": true
   },
   "outputs": [
    {
     "data": {
      "text/plain": [
       "(23082, 8)"
      ]
     },
     "execution_count": 138,
     "metadata": {},
     "output_type": "execute_result"
    }
   ],
   "source": [
    "covid_df.shape"
   ]
  },
  {
   "cell_type": "code",
   "execution_count": 139,
   "id": "b30bffb0",
   "metadata": {
    "scrolled": true
   },
   "outputs": [
    {
     "data": {
      "text/plain": [
       "location                       object\n",
       "date                           object\n",
       "new_cases                       int64\n",
       "new_deaths                      int64\n",
       "population                    float64\n",
       "aged_65_older_percent         float64\n",
       "gdp_per_capita                float64\n",
       "hospital_beds_per_thousand    float64\n",
       "dtype: object"
      ]
     },
     "execution_count": 139,
     "metadata": {},
     "output_type": "execute_result"
    }
   ],
   "source": [
    "covid_df.dtypes"
   ]
  },
  {
   "cell_type": "code",
   "execution_count": 140,
   "id": "0dc828ce",
   "metadata": {
    "scrolled": true
   },
   "outputs": [
    {
     "data": {
      "text/html": [
       "<div>\n",
       "<style scoped>\n",
       "    .dataframe tbody tr th:only-of-type {\n",
       "        vertical-align: middle;\n",
       "    }\n",
       "\n",
       "    .dataframe tbody tr th {\n",
       "        vertical-align: top;\n",
       "    }\n",
       "\n",
       "    .dataframe thead th {\n",
       "        text-align: right;\n",
       "    }\n",
       "</style>\n",
       "<table border=\"1\" class=\"dataframe\">\n",
       "  <thead>\n",
       "    <tr style=\"text-align: right;\">\n",
       "      <th></th>\n",
       "      <th>location</th>\n",
       "      <th>date</th>\n",
       "      <th>new_cases</th>\n",
       "      <th>new_deaths</th>\n",
       "      <th>population</th>\n",
       "      <th>aged_65_older_percent</th>\n",
       "      <th>gdp_per_capita</th>\n",
       "      <th>hospital_beds_per_thousand</th>\n",
       "    </tr>\n",
       "  </thead>\n",
       "  <tbody>\n",
       "    <tr>\n",
       "      <th>0</th>\n",
       "      <td>Afghanistan</td>\n",
       "      <td>2019-12-31</td>\n",
       "      <td>0</td>\n",
       "      <td>0</td>\n",
       "      <td>38928341.0</td>\n",
       "      <td>2.581</td>\n",
       "      <td>1803.987</td>\n",
       "      <td>0.5</td>\n",
       "    </tr>\n",
       "    <tr>\n",
       "      <th>1</th>\n",
       "      <td>Afghanistan</td>\n",
       "      <td>2020-01-01</td>\n",
       "      <td>0</td>\n",
       "      <td>0</td>\n",
       "      <td>38928341.0</td>\n",
       "      <td>2.581</td>\n",
       "      <td>1803.987</td>\n",
       "      <td>0.5</td>\n",
       "    </tr>\n",
       "    <tr>\n",
       "      <th>2</th>\n",
       "      <td>Afghanistan</td>\n",
       "      <td>2020-01-02</td>\n",
       "      <td>0</td>\n",
       "      <td>0</td>\n",
       "      <td>38928341.0</td>\n",
       "      <td>2.581</td>\n",
       "      <td>1803.987</td>\n",
       "      <td>0.5</td>\n",
       "    </tr>\n",
       "    <tr>\n",
       "      <th>3</th>\n",
       "      <td>Afghanistan</td>\n",
       "      <td>2020-01-03</td>\n",
       "      <td>0</td>\n",
       "      <td>0</td>\n",
       "      <td>38928341.0</td>\n",
       "      <td>2.581</td>\n",
       "      <td>1803.987</td>\n",
       "      <td>0.5</td>\n",
       "    </tr>\n",
       "    <tr>\n",
       "      <th>4</th>\n",
       "      <td>Afghanistan</td>\n",
       "      <td>2020-01-04</td>\n",
       "      <td>0</td>\n",
       "      <td>0</td>\n",
       "      <td>38928341.0</td>\n",
       "      <td>2.581</td>\n",
       "      <td>1803.987</td>\n",
       "      <td>0.5</td>\n",
       "    </tr>\n",
       "  </tbody>\n",
       "</table>\n",
       "</div>"
      ],
      "text/plain": [
       "      location        date  new_cases  new_deaths  population  \\\n",
       "0  Afghanistan  2019-12-31          0           0  38928341.0   \n",
       "1  Afghanistan  2020-01-01          0           0  38928341.0   \n",
       "2  Afghanistan  2020-01-02          0           0  38928341.0   \n",
       "3  Afghanistan  2020-01-03          0           0  38928341.0   \n",
       "4  Afghanistan  2020-01-04          0           0  38928341.0   \n",
       "\n",
       "   aged_65_older_percent  gdp_per_capita  hospital_beds_per_thousand  \n",
       "0                  2.581        1803.987                         0.5  \n",
       "1                  2.581        1803.987                         0.5  \n",
       "2                  2.581        1803.987                         0.5  \n",
       "3                  2.581        1803.987                         0.5  \n",
       "4                  2.581        1803.987                         0.5  "
      ]
     },
     "execution_count": 140,
     "metadata": {},
     "output_type": "execute_result"
    }
   ],
   "source": [
    "covid_df.head()\n",
    "# covid_df.tail()"
   ]
  },
  {
   "cell_type": "code",
   "execution_count": 141,
   "id": "927b28f4",
   "metadata": {
    "scrolled": true
   },
   "outputs": [
    {
     "data": {
      "text/html": [
       "<div>\n",
       "<style scoped>\n",
       "    .dataframe tbody tr th:only-of-type {\n",
       "        vertical-align: middle;\n",
       "    }\n",
       "\n",
       "    .dataframe tbody tr th {\n",
       "        vertical-align: top;\n",
       "    }\n",
       "\n",
       "    .dataframe thead th {\n",
       "        text-align: right;\n",
       "    }\n",
       "</style>\n",
       "<table border=\"1\" class=\"dataframe\">\n",
       "  <thead>\n",
       "    <tr style=\"text-align: right;\">\n",
       "      <th></th>\n",
       "      <th>new_cases</th>\n",
       "      <th>new_deaths</th>\n",
       "      <th>population</th>\n",
       "      <th>aged_65_older_percent</th>\n",
       "      <th>gdp_per_capita</th>\n",
       "      <th>hospital_beds_per_thousand</th>\n",
       "    </tr>\n",
       "  </thead>\n",
       "  <tbody>\n",
       "    <tr>\n",
       "      <th>count</th>\n",
       "      <td>23082.000000</td>\n",
       "      <td>23082.000000</td>\n",
       "      <td>2.301800e+04</td>\n",
       "      <td>20643.000000</td>\n",
       "      <td>20711.000000</td>\n",
       "      <td>19144.000000</td>\n",
       "    </tr>\n",
       "    <tr>\n",
       "      <th>mean</th>\n",
       "      <td>624.769257</td>\n",
       "      <td>35.629062</td>\n",
       "      <td>1.037003e+08</td>\n",
       "      <td>9.758570</td>\n",
       "      <td>22708.384791</td>\n",
       "      <td>3.204687</td>\n",
       "    </tr>\n",
       "    <tr>\n",
       "      <th>std</th>\n",
       "      <td>5517.309068</td>\n",
       "      <td>330.986941</td>\n",
       "      <td>6.716897e+08</td>\n",
       "      <td>6.445662</td>\n",
       "      <td>21187.826121</td>\n",
       "      <td>2.593700</td>\n",
       "    </tr>\n",
       "    <tr>\n",
       "      <th>min</th>\n",
       "      <td>-2461.000000</td>\n",
       "      <td>-1918.000000</td>\n",
       "      <td>8.090000e+02</td>\n",
       "      <td>1.144000</td>\n",
       "      <td>661.240000</td>\n",
       "      <td>0.100000</td>\n",
       "    </tr>\n",
       "    <tr>\n",
       "      <th>25%</th>\n",
       "      <td>0.000000</td>\n",
       "      <td>0.000000</td>\n",
       "      <td>2.083380e+06</td>\n",
       "      <td>3.853000</td>\n",
       "      <td>6426.674000</td>\n",
       "      <td>1.400000</td>\n",
       "    </tr>\n",
       "    <tr>\n",
       "      <th>50%</th>\n",
       "      <td>3.000000</td>\n",
       "      <td>0.000000</td>\n",
       "      <td>9.449321e+06</td>\n",
       "      <td>7.646000</td>\n",
       "      <td>15524.995000</td>\n",
       "      <td>2.600000</td>\n",
       "    </tr>\n",
       "    <tr>\n",
       "      <th>75%</th>\n",
       "      <td>55.000000</td>\n",
       "      <td>1.000000</td>\n",
       "      <td>3.346920e+07</td>\n",
       "      <td>15.322000</td>\n",
       "      <td>35220.084000</td>\n",
       "      <td>4.210000</td>\n",
       "    </tr>\n",
       "    <tr>\n",
       "      <th>max</th>\n",
       "      <td>133510.000000</td>\n",
       "      <td>10520.000000</td>\n",
       "      <td>7.794799e+09</td>\n",
       "      <td>27.049000</td>\n",
       "      <td>116935.600000</td>\n",
       "      <td>13.800000</td>\n",
       "    </tr>\n",
       "  </tbody>\n",
       "</table>\n",
       "</div>"
      ],
      "text/plain": [
       "           new_cases    new_deaths    population  aged_65_older_percent  \\\n",
       "count   23082.000000  23082.000000  2.301800e+04           20643.000000   \n",
       "mean      624.769257     35.629062  1.037003e+08               9.758570   \n",
       "std      5517.309068    330.986941  6.716897e+08               6.445662   \n",
       "min     -2461.000000  -1918.000000  8.090000e+02               1.144000   \n",
       "25%         0.000000      0.000000  2.083380e+06               3.853000   \n",
       "50%         3.000000      0.000000  9.449321e+06               7.646000   \n",
       "75%        55.000000      1.000000  3.346920e+07              15.322000   \n",
       "max    133510.000000  10520.000000  7.794799e+09              27.049000   \n",
       "\n",
       "       gdp_per_capita  hospital_beds_per_thousand  \n",
       "count    20711.000000                19144.000000  \n",
       "mean     22708.384791                    3.204687  \n",
       "std      21187.826121                    2.593700  \n",
       "min        661.240000                    0.100000  \n",
       "25%       6426.674000                    1.400000  \n",
       "50%      15524.995000                    2.600000  \n",
       "75%      35220.084000                    4.210000  \n",
       "max     116935.600000                   13.800000  "
      ]
     },
     "execution_count": 141,
     "metadata": {},
     "output_type": "execute_result"
    }
   ],
   "source": [
    "covid_df.describe()"
   ]
  },
  {
   "cell_type": "code",
   "execution_count": 142,
   "id": "77432ba5",
   "metadata": {
    "scrolled": true
   },
   "outputs": [
    {
     "data": {
      "text/plain": [
       "location                         0\n",
       "date                             0\n",
       "new_cases                        0\n",
       "new_deaths                       0\n",
       "population                      64\n",
       "aged_65_older_percent         2439\n",
       "gdp_per_capita                2371\n",
       "hospital_beds_per_thousand    3938\n",
       "dtype: int64"
      ]
     },
     "execution_count": 142,
     "metadata": {},
     "output_type": "execute_result"
    }
   ],
   "source": [
    "covid_df.isnull().sum()"
   ]
  },
  {
   "cell_type": "code",
   "execution_count": 143,
   "id": "7aab5d6a",
   "metadata": {
    "scrolled": true
   },
   "outputs": [
    {
     "data": {
      "text/plain": [
       "0"
      ]
     },
     "execution_count": 143,
     "metadata": {},
     "output_type": "execute_result"
    }
   ],
   "source": [
    "covid_df.duplicated().sum()"
   ]
  },
  {
   "cell_type": "code",
   "execution_count": 144,
   "id": "5f64f1ff",
   "metadata": {
    "scrolled": true
   },
   "outputs": [
    {
     "name": "stdout",
     "output_type": "stream",
     "text": [
      "<class 'pandas.core.frame.DataFrame'>\n",
      "RangeIndex: 23082 entries, 0 to 23081\n",
      "Data columns (total 8 columns):\n",
      " #   Column                      Non-Null Count  Dtype  \n",
      "---  ------                      --------------  -----  \n",
      " 0   location                    23082 non-null  object \n",
      " 1   date                        23082 non-null  object \n",
      " 2   new_cases                   23082 non-null  int64  \n",
      " 3   new_deaths                  23082 non-null  int64  \n",
      " 4   population                  23018 non-null  float64\n",
      " 5   aged_65_older_percent       20643 non-null  float64\n",
      " 6   gdp_per_capita              20711 non-null  float64\n",
      " 7   hospital_beds_per_thousand  19144 non-null  float64\n",
      "dtypes: float64(4), int64(2), object(2)\n",
      "memory usage: 1.4+ MB\n"
     ]
    }
   ],
   "source": [
    "covid_df.info()"
   ]
  },
  {
   "cell_type": "code",
   "execution_count": 145,
   "id": "33e6bef0",
   "metadata": {
    "scrolled": true
   },
   "outputs": [
    {
     "name": "stdout",
     "output_type": "stream",
     "text": [
      "location :  212\n",
      "--------------------------------------------------------\n",
      "date :  163\n",
      "--------------------------------------------------------\n",
      "new_cases :  2073\n",
      "--------------------------------------------------------\n",
      "new_deaths :  634\n",
      "--------------------------------------------------------\n",
      "population :  211\n",
      "--------------------------------------------------------\n",
      "aged_65_older_percent :  183\n",
      "--------------------------------------------------------\n",
      "gdp_per_capita :  184\n",
      "--------------------------------------------------------\n",
      "hospital_beds_per_thousand :  100\n",
      "--------------------------------------------------------\n"
     ]
    }
   ],
   "source": [
    "covid_df.drop_duplicates(inplace=True)\n",
    "for col in covid_df.columns :\n",
    "    print(col,': ', covid_df[col].nunique())\n",
    "    print(\"--------------------------------------------------------\")"
   ]
  },
  {
   "cell_type": "code",
   "execution_count": 146,
   "id": "2d17c166",
   "metadata": {
    "scrolled": true
   },
   "outputs": [],
   "source": [
    "null_cols = [\"population\", \"aged_65_older_percent\", \"gdp_per_capita\", \"hospital_beds_per_thousand\"]\n",
    "for col in null_cols :\n",
    "    covid_df[col].fillna(method='ffill', inplace=True)"
   ]
  },
  {
   "cell_type": "code",
   "execution_count": 147,
   "id": "02b39bd4",
   "metadata": {
    "scrolled": true
   },
   "outputs": [
    {
     "data": {
      "text/plain": [
       "location                      0\n",
       "date                          0\n",
       "new_cases                     0\n",
       "new_deaths                    0\n",
       "population                    0\n",
       "aged_65_older_percent         0\n",
       "gdp_per_capita                0\n",
       "hospital_beds_per_thousand    0\n",
       "dtype: int64"
      ]
     },
     "execution_count": 147,
     "metadata": {},
     "output_type": "execute_result"
    }
   ],
   "source": [
    "covid_df.isna().sum()"
   ]
  },
  {
   "cell_type": "code",
   "execution_count": null,
   "id": "1ad70893",
   "metadata": {
    "scrolled": true
   },
   "outputs": [],
   "source": []
  },
  {
   "cell_type": "code",
   "execution_count": null,
   "id": "a5dc1666",
   "metadata": {
    "scrolled": true
   },
   "outputs": [],
   "source": []
  },
  {
   "cell_type": "code",
   "execution_count": 148,
   "id": "04abcdf5",
   "metadata": {
    "scrolled": true
   },
   "outputs": [
    {
     "data": {
      "text/html": [
       "<div>\n",
       "<style scoped>\n",
       "    .dataframe tbody tr th:only-of-type {\n",
       "        vertical-align: middle;\n",
       "    }\n",
       "\n",
       "    .dataframe tbody tr th {\n",
       "        vertical-align: top;\n",
       "    }\n",
       "\n",
       "    .dataframe thead th {\n",
       "        text-align: right;\n",
       "    }\n",
       "</style>\n",
       "<table border=\"1\" class=\"dataframe\">\n",
       "  <thead>\n",
       "    <tr style=\"text-align: right;\">\n",
       "      <th></th>\n",
       "      <th>location</th>\n",
       "      <th>new_cases</th>\n",
       "      <th>new_deaths</th>\n",
       "      <th>population</th>\n",
       "      <th>aged_65_older_percent</th>\n",
       "      <th>gdp_per_capita</th>\n",
       "      <th>hospital_beds_per_thousand</th>\n",
       "    </tr>\n",
       "    <tr>\n",
       "      <th>date</th>\n",
       "      <th></th>\n",
       "      <th></th>\n",
       "      <th></th>\n",
       "      <th></th>\n",
       "      <th></th>\n",
       "      <th></th>\n",
       "      <th></th>\n",
       "    </tr>\n",
       "  </thead>\n",
       "  <tbody>\n",
       "    <tr>\n",
       "      <th>2019-12-31</th>\n",
       "      <td>Afghanistan</td>\n",
       "      <td>0</td>\n",
       "      <td>0</td>\n",
       "      <td>3.892834e+07</td>\n",
       "      <td>2.581</td>\n",
       "      <td>1803.987</td>\n",
       "      <td>0.500</td>\n",
       "    </tr>\n",
       "    <tr>\n",
       "      <th>2020-01-01</th>\n",
       "      <td>Afghanistan</td>\n",
       "      <td>0</td>\n",
       "      <td>0</td>\n",
       "      <td>3.892834e+07</td>\n",
       "      <td>2.581</td>\n",
       "      <td>1803.987</td>\n",
       "      <td>0.500</td>\n",
       "    </tr>\n",
       "    <tr>\n",
       "      <th>2020-01-02</th>\n",
       "      <td>Afghanistan</td>\n",
       "      <td>0</td>\n",
       "      <td>0</td>\n",
       "      <td>3.892834e+07</td>\n",
       "      <td>2.581</td>\n",
       "      <td>1803.987</td>\n",
       "      <td>0.500</td>\n",
       "    </tr>\n",
       "    <tr>\n",
       "      <th>2020-01-03</th>\n",
       "      <td>Afghanistan</td>\n",
       "      <td>0</td>\n",
       "      <td>0</td>\n",
       "      <td>3.892834e+07</td>\n",
       "      <td>2.581</td>\n",
       "      <td>1803.987</td>\n",
       "      <td>0.500</td>\n",
       "    </tr>\n",
       "    <tr>\n",
       "      <th>2020-01-04</th>\n",
       "      <td>Afghanistan</td>\n",
       "      <td>0</td>\n",
       "      <td>0</td>\n",
       "      <td>3.892834e+07</td>\n",
       "      <td>2.581</td>\n",
       "      <td>1803.987</td>\n",
       "      <td>0.500</td>\n",
       "    </tr>\n",
       "    <tr>\n",
       "      <th>...</th>\n",
       "      <td>...</td>\n",
       "      <td>...</td>\n",
       "      <td>...</td>\n",
       "      <td>...</td>\n",
       "      <td>...</td>\n",
       "      <td>...</td>\n",
       "      <td>...</td>\n",
       "    </tr>\n",
       "    <tr>\n",
       "      <th>2020-02-28</th>\n",
       "      <td>International</td>\n",
       "      <td>0</td>\n",
       "      <td>0</td>\n",
       "      <td>7.794799e+09</td>\n",
       "      <td>8.696</td>\n",
       "      <td>15469.207</td>\n",
       "      <td>2.705</td>\n",
       "    </tr>\n",
       "    <tr>\n",
       "      <th>2020-02-29</th>\n",
       "      <td>International</td>\n",
       "      <td>0</td>\n",
       "      <td>2</td>\n",
       "      <td>7.794799e+09</td>\n",
       "      <td>8.696</td>\n",
       "      <td>15469.207</td>\n",
       "      <td>2.705</td>\n",
       "    </tr>\n",
       "    <tr>\n",
       "      <th>2020-03-01</th>\n",
       "      <td>International</td>\n",
       "      <td>0</td>\n",
       "      <td>0</td>\n",
       "      <td>7.794799e+09</td>\n",
       "      <td>8.696</td>\n",
       "      <td>15469.207</td>\n",
       "      <td>2.705</td>\n",
       "    </tr>\n",
       "    <tr>\n",
       "      <th>2020-03-02</th>\n",
       "      <td>International</td>\n",
       "      <td>0</td>\n",
       "      <td>0</td>\n",
       "      <td>7.794799e+09</td>\n",
       "      <td>8.696</td>\n",
       "      <td>15469.207</td>\n",
       "      <td>2.705</td>\n",
       "    </tr>\n",
       "    <tr>\n",
       "      <th>2020-03-10</th>\n",
       "      <td>International</td>\n",
       "      <td>-9</td>\n",
       "      <td>1</td>\n",
       "      <td>7.794799e+09</td>\n",
       "      <td>8.696</td>\n",
       "      <td>15469.207</td>\n",
       "      <td>2.705</td>\n",
       "    </tr>\n",
       "  </tbody>\n",
       "</table>\n",
       "<p>23082 rows × 7 columns</p>\n",
       "</div>"
      ],
      "text/plain": [
       "                 location  new_cases  new_deaths    population  \\\n",
       "date                                                             \n",
       "2019-12-31    Afghanistan          0           0  3.892834e+07   \n",
       "2020-01-01    Afghanistan          0           0  3.892834e+07   \n",
       "2020-01-02    Afghanistan          0           0  3.892834e+07   \n",
       "2020-01-03    Afghanistan          0           0  3.892834e+07   \n",
       "2020-01-04    Afghanistan          0           0  3.892834e+07   \n",
       "...                   ...        ...         ...           ...   \n",
       "2020-02-28  International          0           0  7.794799e+09   \n",
       "2020-02-29  International          0           2  7.794799e+09   \n",
       "2020-03-01  International          0           0  7.794799e+09   \n",
       "2020-03-02  International          0           0  7.794799e+09   \n",
       "2020-03-10  International         -9           1  7.794799e+09   \n",
       "\n",
       "            aged_65_older_percent  gdp_per_capita  hospital_beds_per_thousand  \n",
       "date                                                                           \n",
       "2019-12-31                  2.581        1803.987                       0.500  \n",
       "2020-01-01                  2.581        1803.987                       0.500  \n",
       "2020-01-02                  2.581        1803.987                       0.500  \n",
       "2020-01-03                  2.581        1803.987                       0.500  \n",
       "2020-01-04                  2.581        1803.987                       0.500  \n",
       "...                           ...             ...                         ...  \n",
       "2020-02-28                  8.696       15469.207                       2.705  \n",
       "2020-02-29                  8.696       15469.207                       2.705  \n",
       "2020-03-01                  8.696       15469.207                       2.705  \n",
       "2020-03-02                  8.696       15469.207                       2.705  \n",
       "2020-03-10                  8.696       15469.207                       2.705  \n",
       "\n",
       "[23082 rows x 7 columns]"
      ]
     },
     "execution_count": 148,
     "metadata": {},
     "output_type": "execute_result"
    }
   ],
   "source": [
    "covid_df.set_index('date')"
   ]
  },
  {
   "cell_type": "code",
   "execution_count": 149,
   "id": "b73de5bb",
   "metadata": {
    "scrolled": true
   },
   "outputs": [],
   "source": [
    "germany = covid_df[covid_df.location == \"Germany\"]\n",
    "italy = covid_df[covid_df.location == \"Italy\"]"
   ]
  },
  {
   "cell_type": "code",
   "execution_count": 150,
   "id": "e6332d43",
   "metadata": {
    "scrolled": true
   },
   "outputs": [],
   "source": [
    "germany[\"cumsum\"] = germany.new_cases.cumsum()\n",
    "italy[\"cumsum\"] = italy.new_cases.cumsum()\n",
    "gr_it = pd.merge(germany, italy, on='date')"
   ]
  },
  {
   "cell_type": "code",
   "execution_count": 151,
   "id": "5a1c08aa",
   "metadata": {
    "scrolled": true
   },
   "outputs": [
    {
     "data": {
      "text/html": [
       "<div>\n",
       "<style scoped>\n",
       "    .dataframe tbody tr th:only-of-type {\n",
       "        vertical-align: middle;\n",
       "    }\n",
       "\n",
       "    .dataframe tbody tr th {\n",
       "        vertical-align: top;\n",
       "    }\n",
       "\n",
       "    .dataframe thead th {\n",
       "        text-align: right;\n",
       "    }\n",
       "</style>\n",
       "<table border=\"1\" class=\"dataframe\">\n",
       "  <thead>\n",
       "    <tr style=\"text-align: right;\">\n",
       "      <th></th>\n",
       "      <th>location_x</th>\n",
       "      <th>date</th>\n",
       "      <th>new_cases_x</th>\n",
       "      <th>new_deaths_x</th>\n",
       "      <th>population_x</th>\n",
       "      <th>aged_65_older_percent_x</th>\n",
       "      <th>gdp_per_capita_x</th>\n",
       "      <th>hospital_beds_per_thousand_x</th>\n",
       "      <th>cumsum_x</th>\n",
       "      <th>location_y</th>\n",
       "      <th>new_cases_y</th>\n",
       "      <th>new_deaths_y</th>\n",
       "      <th>population_y</th>\n",
       "      <th>aged_65_older_percent_y</th>\n",
       "      <th>gdp_per_capita_y</th>\n",
       "      <th>hospital_beds_per_thousand_y</th>\n",
       "      <th>cumsum_y</th>\n",
       "    </tr>\n",
       "  </thead>\n",
       "  <tbody>\n",
       "    <tr>\n",
       "      <th>72</th>\n",
       "      <td>Germany</td>\n",
       "      <td>2020-03-12</td>\n",
       "      <td>271</td>\n",
       "      <td>1</td>\n",
       "      <td>83783945.0</td>\n",
       "      <td>21.453</td>\n",
       "      <td>45229.245</td>\n",
       "      <td>8.0</td>\n",
       "      <td>1567</td>\n",
       "      <td>Italy</td>\n",
       "      <td>2313</td>\n",
       "      <td>196</td>\n",
       "      <td>60461828.0</td>\n",
       "      <td>23.021</td>\n",
       "      <td>35220.084</td>\n",
       "      <td>3.18</td>\n",
       "      <td>12462</td>\n",
       "    </tr>\n",
       "    <tr>\n",
       "      <th>73</th>\n",
       "      <td>Germany</td>\n",
       "      <td>2020-03-13</td>\n",
       "      <td>802</td>\n",
       "      <td>2</td>\n",
       "      <td>83783945.0</td>\n",
       "      <td>21.453</td>\n",
       "      <td>45229.245</td>\n",
       "      <td>8.0</td>\n",
       "      <td>2369</td>\n",
       "      <td>Italy</td>\n",
       "      <td>2651</td>\n",
       "      <td>189</td>\n",
       "      <td>60461828.0</td>\n",
       "      <td>23.021</td>\n",
       "      <td>35220.084</td>\n",
       "      <td>3.18</td>\n",
       "      <td>15113</td>\n",
       "    </tr>\n",
       "    <tr>\n",
       "      <th>74</th>\n",
       "      <td>Germany</td>\n",
       "      <td>2020-03-14</td>\n",
       "      <td>693</td>\n",
       "      <td>0</td>\n",
       "      <td>83783945.0</td>\n",
       "      <td>21.453</td>\n",
       "      <td>45229.245</td>\n",
       "      <td>8.0</td>\n",
       "      <td>3062</td>\n",
       "      <td>Italy</td>\n",
       "      <td>2547</td>\n",
       "      <td>252</td>\n",
       "      <td>60461828.0</td>\n",
       "      <td>23.021</td>\n",
       "      <td>35220.084</td>\n",
       "      <td>3.18</td>\n",
       "      <td>17660</td>\n",
       "    </tr>\n",
       "    <tr>\n",
       "      <th>75</th>\n",
       "      <td>Germany</td>\n",
       "      <td>2020-03-15</td>\n",
       "      <td>733</td>\n",
       "      <td>3</td>\n",
       "      <td>83783945.0</td>\n",
       "      <td>21.453</td>\n",
       "      <td>45229.245</td>\n",
       "      <td>8.0</td>\n",
       "      <td>3795</td>\n",
       "      <td>Italy</td>\n",
       "      <td>3497</td>\n",
       "      <td>173</td>\n",
       "      <td>60461828.0</td>\n",
       "      <td>23.021</td>\n",
       "      <td>35220.084</td>\n",
       "      <td>3.18</td>\n",
       "      <td>21157</td>\n",
       "    </tr>\n",
       "    <tr>\n",
       "      <th>76</th>\n",
       "      <td>Germany</td>\n",
       "      <td>2020-03-16</td>\n",
       "      <td>1043</td>\n",
       "      <td>4</td>\n",
       "      <td>83783945.0</td>\n",
       "      <td>21.453</td>\n",
       "      <td>45229.245</td>\n",
       "      <td>8.0</td>\n",
       "      <td>4838</td>\n",
       "      <td>Italy</td>\n",
       "      <td>2823</td>\n",
       "      <td>370</td>\n",
       "      <td>60461828.0</td>\n",
       "      <td>23.021</td>\n",
       "      <td>35220.084</td>\n",
       "      <td>3.18</td>\n",
       "      <td>23980</td>\n",
       "    </tr>\n",
       "    <tr>\n",
       "      <th>...</th>\n",
       "      <td>...</td>\n",
       "      <td>...</td>\n",
       "      <td>...</td>\n",
       "      <td>...</td>\n",
       "      <td>...</td>\n",
       "      <td>...</td>\n",
       "      <td>...</td>\n",
       "      <td>...</td>\n",
       "      <td>...</td>\n",
       "      <td>...</td>\n",
       "      <td>...</td>\n",
       "      <td>...</td>\n",
       "      <td>...</td>\n",
       "      <td>...</td>\n",
       "      <td>...</td>\n",
       "      <td>...</td>\n",
       "      <td>...</td>\n",
       "    </tr>\n",
       "    <tr>\n",
       "      <th>158</th>\n",
       "      <td>Germany</td>\n",
       "      <td>2020-06-06</td>\n",
       "      <td>407</td>\n",
       "      <td>33</td>\n",
       "      <td>83783945.0</td>\n",
       "      <td>21.453</td>\n",
       "      <td>45229.245</td>\n",
       "      <td>8.0</td>\n",
       "      <td>183678</td>\n",
       "      <td>Italy</td>\n",
       "      <td>518</td>\n",
       "      <td>85</td>\n",
       "      <td>60461828.0</td>\n",
       "      <td>23.021</td>\n",
       "      <td>35220.084</td>\n",
       "      <td>3.18</td>\n",
       "      <td>234531</td>\n",
       "    </tr>\n",
       "    <tr>\n",
       "      <th>159</th>\n",
       "      <td>Germany</td>\n",
       "      <td>2020-06-07</td>\n",
       "      <td>301</td>\n",
       "      <td>22</td>\n",
       "      <td>83783945.0</td>\n",
       "      <td>21.453</td>\n",
       "      <td>45229.245</td>\n",
       "      <td>8.0</td>\n",
       "      <td>183979</td>\n",
       "      <td>Italy</td>\n",
       "      <td>270</td>\n",
       "      <td>72</td>\n",
       "      <td>60461828.0</td>\n",
       "      <td>23.021</td>\n",
       "      <td>35220.084</td>\n",
       "      <td>3.18</td>\n",
       "      <td>234801</td>\n",
       "    </tr>\n",
       "    <tr>\n",
       "      <th>160</th>\n",
       "      <td>Germany</td>\n",
       "      <td>2020-06-08</td>\n",
       "      <td>214</td>\n",
       "      <td>6</td>\n",
       "      <td>83783945.0</td>\n",
       "      <td>21.453</td>\n",
       "      <td>45229.245</td>\n",
       "      <td>8.0</td>\n",
       "      <td>184193</td>\n",
       "      <td>Italy</td>\n",
       "      <td>197</td>\n",
       "      <td>53</td>\n",
       "      <td>60461828.0</td>\n",
       "      <td>23.021</td>\n",
       "      <td>35220.084</td>\n",
       "      <td>3.18</td>\n",
       "      <td>234998</td>\n",
       "    </tr>\n",
       "    <tr>\n",
       "      <th>161</th>\n",
       "      <td>Germany</td>\n",
       "      <td>2020-06-09</td>\n",
       "      <td>350</td>\n",
       "      <td>37</td>\n",
       "      <td>83783945.0</td>\n",
       "      <td>21.453</td>\n",
       "      <td>45229.245</td>\n",
       "      <td>8.0</td>\n",
       "      <td>184543</td>\n",
       "      <td>Italy</td>\n",
       "      <td>280</td>\n",
       "      <td>65</td>\n",
       "      <td>60461828.0</td>\n",
       "      <td>23.021</td>\n",
       "      <td>35220.084</td>\n",
       "      <td>3.18</td>\n",
       "      <td>235278</td>\n",
       "    </tr>\n",
       "    <tr>\n",
       "      <th>162</th>\n",
       "      <td>Germany</td>\n",
       "      <td>2020-06-10</td>\n",
       "      <td>318</td>\n",
       "      <td>18</td>\n",
       "      <td>83783945.0</td>\n",
       "      <td>21.453</td>\n",
       "      <td>45229.245</td>\n",
       "      <td>8.0</td>\n",
       "      <td>184861</td>\n",
       "      <td>Italy</td>\n",
       "      <td>283</td>\n",
       "      <td>79</td>\n",
       "      <td>60461828.0</td>\n",
       "      <td>23.021</td>\n",
       "      <td>35220.084</td>\n",
       "      <td>3.18</td>\n",
       "      <td>235561</td>\n",
       "    </tr>\n",
       "  </tbody>\n",
       "</table>\n",
       "<p>91 rows × 17 columns</p>\n",
       "</div>"
      ],
      "text/plain": [
       "    location_x        date  new_cases_x  new_deaths_x  population_x  \\\n",
       "72     Germany  2020-03-12          271             1    83783945.0   \n",
       "73     Germany  2020-03-13          802             2    83783945.0   \n",
       "74     Germany  2020-03-14          693             0    83783945.0   \n",
       "75     Germany  2020-03-15          733             3    83783945.0   \n",
       "76     Germany  2020-03-16         1043             4    83783945.0   \n",
       "..         ...         ...          ...           ...           ...   \n",
       "158    Germany  2020-06-06          407            33    83783945.0   \n",
       "159    Germany  2020-06-07          301            22    83783945.0   \n",
       "160    Germany  2020-06-08          214             6    83783945.0   \n",
       "161    Germany  2020-06-09          350            37    83783945.0   \n",
       "162    Germany  2020-06-10          318            18    83783945.0   \n",
       "\n",
       "     aged_65_older_percent_x  gdp_per_capita_x  hospital_beds_per_thousand_x  \\\n",
       "72                    21.453         45229.245                           8.0   \n",
       "73                    21.453         45229.245                           8.0   \n",
       "74                    21.453         45229.245                           8.0   \n",
       "75                    21.453         45229.245                           8.0   \n",
       "76                    21.453         45229.245                           8.0   \n",
       "..                       ...               ...                           ...   \n",
       "158                   21.453         45229.245                           8.0   \n",
       "159                   21.453         45229.245                           8.0   \n",
       "160                   21.453         45229.245                           8.0   \n",
       "161                   21.453         45229.245                           8.0   \n",
       "162                   21.453         45229.245                           8.0   \n",
       "\n",
       "     cumsum_x location_y  new_cases_y  new_deaths_y  population_y  \\\n",
       "72       1567      Italy         2313           196    60461828.0   \n",
       "73       2369      Italy         2651           189    60461828.0   \n",
       "74       3062      Italy         2547           252    60461828.0   \n",
       "75       3795      Italy         3497           173    60461828.0   \n",
       "76       4838      Italy         2823           370    60461828.0   \n",
       "..        ...        ...          ...           ...           ...   \n",
       "158    183678      Italy          518            85    60461828.0   \n",
       "159    183979      Italy          270            72    60461828.0   \n",
       "160    184193      Italy          197            53    60461828.0   \n",
       "161    184543      Italy          280            65    60461828.0   \n",
       "162    184861      Italy          283            79    60461828.0   \n",
       "\n",
       "     aged_65_older_percent_y  gdp_per_capita_y  hospital_beds_per_thousand_y  \\\n",
       "72                    23.021         35220.084                          3.18   \n",
       "73                    23.021         35220.084                          3.18   \n",
       "74                    23.021         35220.084                          3.18   \n",
       "75                    23.021         35220.084                          3.18   \n",
       "76                    23.021         35220.084                          3.18   \n",
       "..                       ...               ...                           ...   \n",
       "158                   23.021         35220.084                          3.18   \n",
       "159                   23.021         35220.084                          3.18   \n",
       "160                   23.021         35220.084                          3.18   \n",
       "161                   23.021         35220.084                          3.18   \n",
       "162                   23.021         35220.084                          3.18   \n",
       "\n",
       "     cumsum_y  \n",
       "72      12462  \n",
       "73      15113  \n",
       "74      17660  \n",
       "75      21157  \n",
       "76      23980  \n",
       "..        ...  \n",
       "158    234531  \n",
       "159    234801  \n",
       "160    234998  \n",
       "161    235278  \n",
       "162    235561  \n",
       "\n",
       "[91 rows x 17 columns]"
      ]
     },
     "execution_count": 151,
     "metadata": {},
     "output_type": "execute_result"
    }
   ],
   "source": [
    "gr_it[abs(gr_it.cumsum_x - gr_it.cumsum_y) > 10000]"
   ]
  },
  {
   "cell_type": "code",
   "execution_count": 152,
   "id": "f920082e",
   "metadata": {
    "scrolled": true
   },
   "outputs": [
    {
     "data": {
      "text/html": [
       "<div>\n",
       "<style scoped>\n",
       "    .dataframe tbody tr th:only-of-type {\n",
       "        vertical-align: middle;\n",
       "    }\n",
       "\n",
       "    .dataframe tbody tr th {\n",
       "        vertical-align: top;\n",
       "    }\n",
       "\n",
       "    .dataframe thead th {\n",
       "        text-align: right;\n",
       "    }\n",
       "</style>\n",
       "<table border=\"1\" class=\"dataframe\">\n",
       "  <thead>\n",
       "    <tr style=\"text-align: right;\">\n",
       "      <th></th>\n",
       "      <th>location</th>\n",
       "      <th>date</th>\n",
       "      <th>new_cases</th>\n",
       "      <th>new_deaths</th>\n",
       "      <th>population</th>\n",
       "      <th>aged_65_older_percent</th>\n",
       "      <th>gdp_per_capita</th>\n",
       "      <th>hospital_beds_per_thousand</th>\n",
       "      <th>cumsum</th>\n",
       "    </tr>\n",
       "  </thead>\n",
       "  <tbody>\n",
       "    <tr>\n",
       "      <th>10688</th>\n",
       "      <td>Italy</td>\n",
       "      <td>2019-12-31</td>\n",
       "      <td>0</td>\n",
       "      <td>0</td>\n",
       "      <td>60461828.0</td>\n",
       "      <td>23.021</td>\n",
       "      <td>35220.084</td>\n",
       "      <td>3.18</td>\n",
       "      <td>0</td>\n",
       "    </tr>\n",
       "    <tr>\n",
       "      <th>10689</th>\n",
       "      <td>Italy</td>\n",
       "      <td>2020-01-01</td>\n",
       "      <td>0</td>\n",
       "      <td>0</td>\n",
       "      <td>60461828.0</td>\n",
       "      <td>23.021</td>\n",
       "      <td>35220.084</td>\n",
       "      <td>3.18</td>\n",
       "      <td>0</td>\n",
       "    </tr>\n",
       "    <tr>\n",
       "      <th>10690</th>\n",
       "      <td>Italy</td>\n",
       "      <td>2020-01-02</td>\n",
       "      <td>0</td>\n",
       "      <td>0</td>\n",
       "      <td>60461828.0</td>\n",
       "      <td>23.021</td>\n",
       "      <td>35220.084</td>\n",
       "      <td>3.18</td>\n",
       "      <td>0</td>\n",
       "    </tr>\n",
       "    <tr>\n",
       "      <th>10691</th>\n",
       "      <td>Italy</td>\n",
       "      <td>2020-01-03</td>\n",
       "      <td>0</td>\n",
       "      <td>0</td>\n",
       "      <td>60461828.0</td>\n",
       "      <td>23.021</td>\n",
       "      <td>35220.084</td>\n",
       "      <td>3.18</td>\n",
       "      <td>0</td>\n",
       "    </tr>\n",
       "    <tr>\n",
       "      <th>10692</th>\n",
       "      <td>Italy</td>\n",
       "      <td>2020-01-04</td>\n",
       "      <td>0</td>\n",
       "      <td>0</td>\n",
       "      <td>60461828.0</td>\n",
       "      <td>23.021</td>\n",
       "      <td>35220.084</td>\n",
       "      <td>3.18</td>\n",
       "      <td>0</td>\n",
       "    </tr>\n",
       "  </tbody>\n",
       "</table>\n",
       "</div>"
      ],
      "text/plain": [
       "      location        date  new_cases  new_deaths  population  \\\n",
       "10688    Italy  2019-12-31          0           0  60461828.0   \n",
       "10689    Italy  2020-01-01          0           0  60461828.0   \n",
       "10690    Italy  2020-01-02          0           0  60461828.0   \n",
       "10691    Italy  2020-01-03          0           0  60461828.0   \n",
       "10692    Italy  2020-01-04          0           0  60461828.0   \n",
       "\n",
       "       aged_65_older_percent  gdp_per_capita  hospital_beds_per_thousand  \\\n",
       "10688                 23.021       35220.084                        3.18   \n",
       "10689                 23.021       35220.084                        3.18   \n",
       "10690                 23.021       35220.084                        3.18   \n",
       "10691                 23.021       35220.084                        3.18   \n",
       "10692                 23.021       35220.084                        3.18   \n",
       "\n",
       "       cumsum  \n",
       "10688       0  \n",
       "10689       0  \n",
       "10690       0  \n",
       "10691       0  \n",
       "10692       0  "
      ]
     },
     "execution_count": 152,
     "metadata": {},
     "output_type": "execute_result"
    }
   ],
   "source": [
    "italy.head()"
   ]
  },
  {
   "cell_type": "code",
   "execution_count": 183,
   "id": "d91922cb",
   "metadata": {
    "scrolled": true
   },
   "outputs": [
    {
     "data": {
      "image/png": "[encoded data removed]",
      "text/plain": [
       "<Figure size 2160x1152 with 1 Axes>"
      ]
     },
     "metadata": {},
     "output_type": "display_data"
    }
   ],
   "source": [
    "sb.lineplot(data=italy[(italy.date >= \"2020-02-28\") & (italy.date <= \"2020-03-20\")], x = 'date', y='cumsum')\n",
    "sb.set(rc = {'figure.figsize':(60,16)})"
   ]
  },
  {
   "cell_type": "code",
   "execution_count": 154,
   "id": "f382f013",
   "metadata": {
    "scrolled": true
   },
   "outputs": [
    {
     "data": {
      "text/plain": [
       "10768    35713\n",
       "dtype: int64"
      ]
     },
     "execution_count": 154,
     "metadata": {},
     "output_type": "execute_result"
    }
   ],
   "source": [
    "italy[italy.date == \"2020-03-20\"][\"cumsum\"] - italy[italy.date == \"2020-03-20\"].new_cases"
   ]
  },
  {
   "cell_type": "code",
   "execution_count": 155,
   "id": "1cd56b74",
   "metadata": {
    "scrolled": true
   },
   "outputs": [
    {
     "data": {
      "text/plain": [
       "location\n",
       "World                              411195\n",
       "United States                      112006\n",
       "United Kingdom                      40883\n",
       "Brazil                              38406\n",
       "Italy                               34043\n",
       "                                    ...  \n",
       "Bonaire Sint Eustatius and Saba         0\n",
       "Seychelles                              0\n",
       "Bhutan                                  0\n",
       "Saint Kitts and Nevis                   0\n",
       "Dominica                                0\n",
       "Name: new_deaths, Length: 212, dtype: int64"
      ]
     },
     "execution_count": 155,
     "metadata": {},
     "output_type": "execute_result"
    }
   ],
   "source": [
    "covid_df.groupby('location').new_deaths.sum().sort_values(ascending=False)"
   ]
  },
  {
   "cell_type": "code",
   "execution_count": 156,
   "id": "11c67ef1",
   "metadata": {
    "scrolled": true
   },
   "outputs": [],
   "source": [
    "l_beds = covid_df[covid_df.hospital_beds_per_thousand >= 5]\n",
    "h_gdp = l_beds[l_beds.gdp_per_capita > 10000]"
   ]
  },
  {
   "cell_type": "code",
   "execution_count": 157,
   "id": "ad669d7d",
   "metadata": {
    "scrolled": true
   },
   "outputs": [
    {
     "name": "stdout",
     "output_type": "stream",
     "text": [
      "l_beds:          location        date  new_cases  new_deaths  population  \\\n",
      "734    Argentina  2020-03-04          1           0  45195777.0   \n",
      "735    Argentina  2020-03-06          1           0  45195777.0   \n",
      "736    Argentina  2020-03-07          6           0  45195777.0   \n",
      "737    Argentina  2020-03-08          1           1  45195777.0   \n",
      "738    Argentina  2020-03-09          3           0  45195777.0   \n",
      "...          ...         ...        ...         ...         ...   \n",
      "21501    Ukraine  2020-06-06        550          15  43733759.0   \n",
      "21502    Ukraine  2020-06-07          0           0  43733759.0   \n",
      "21503    Ukraine  2020-06-08        485          11  43733759.0   \n",
      "21504    Ukraine  2020-06-09        463           9  43733759.0   \n",
      "21505    Ukraine  2020-06-10        394          13  43733759.0   \n",
      "\n",
      "       aged_65_older_percent  gdp_per_capita  hospital_beds_per_thousand  \n",
      "734                   11.198       18933.907                         5.0  \n",
      "735                   11.198       18933.907                         5.0  \n",
      "736                   11.198       18933.907                         5.0  \n",
      "737                   11.198       18933.907                         5.0  \n",
      "738                   11.198       18933.907                         5.0  \n",
      "...                      ...             ...                         ...  \n",
      "21501                 16.462        7894.393                         8.8  \n",
      "21502                 16.462        7894.393                         8.8  \n",
      "21503                 16.462        7894.393                         8.8  \n",
      "21504                 16.462        7894.393                         8.8  \n",
      "21505                 16.462        7894.393                         8.8  \n",
      "\n",
      "[3989 rows x 8 columns] \n",
      " h_gdp:            location        date  new_cases  new_deaths  population  \\\n",
      "734      Argentina  2020-03-04          1           0  45195777.0   \n",
      "735      Argentina  2020-03-06          1           0  45195777.0   \n",
      "736      Argentina  2020-03-07          6           0  45195777.0   \n",
      "737      Argentina  2020-03-08          1           1  45195777.0   \n",
      "738      Argentina  2020-03-09          3           0  45195777.0   \n",
      "...            ...         ...        ...         ...         ...   \n",
      "19317  South Korea  2020-06-06         51           0  51269183.0   \n",
      "19318  South Korea  2020-06-07         57           0  51269183.0   \n",
      "19319  South Korea  2020-06-08         38           0  51269183.0   \n",
      "19320  South Korea  2020-06-09         38           1  51269183.0   \n",
      "19321  South Korea  2020-06-10         50           2  51269183.0   \n",
      "\n",
      "       aged_65_older_percent  gdp_per_capita  hospital_beds_per_thousand  \n",
      "734                   11.198       18933.907                        5.00  \n",
      "735                   11.198       18933.907                        5.00  \n",
      "736                   11.198       18933.907                        5.00  \n",
      "737                   11.198       18933.907                        5.00  \n",
      "738                   11.198       18933.907                        5.00  \n",
      "...                      ...             ...                         ...  \n",
      "19317                 13.914       35938.374                       12.27  \n",
      "19318                 13.914       35938.374                       12.27  \n",
      "19319                 13.914       35938.374                       12.27  \n",
      "19320                 13.914       35938.374                       12.27  \n",
      "19321                 13.914       35938.374                       12.27  \n",
      "\n",
      "[3331 rows x 8 columns]\n"
     ]
    }
   ],
   "source": [
    "print('l_beds: ', l_beds, '\\n', 'h_gdp: ', h_gdp )"
   ]
  },
  {
   "cell_type": "code",
   "execution_count": 158,
   "id": "355328ab",
   "metadata": {
    "scrolled": true
   },
   "outputs": [
    {
     "data": {
      "text/plain": [
       "0.8350463775382301"
      ]
     },
     "execution_count": 158,
     "metadata": {},
     "output_type": "execute_result"
    }
   ],
   "source": [
    "len(h_gdp)/len(l_beds)"
   ]
  },
  {
   "cell_type": "code",
   "execution_count": null,
   "id": "9dd63504",
   "metadata": {
    "scrolled": true
   },
   "outputs": [],
   "source": []
  },
  {
   "cell_type": "code",
   "execution_count": 159,
   "id": "ceef3b4f",
   "metadata": {
    "scrolled": true
   },
   "outputs": [
    {
     "data": {
      "text/plain": [
       "Germany           163\n",
       "Japan             163\n",
       "Czech Republic    163\n",
       "United States     163\n",
       "Brazil            163\n",
       "                 ... \n",
       "Yemen              62\n",
       "Western Sahara     46\n",
       "Tajikistan         41\n",
       "Comoros            40\n",
       "Lesotho            27\n",
       "Name: location, Length: 212, dtype: int64"
      ]
     },
     "execution_count": 159,
     "metadata": {},
     "output_type": "execute_result"
    }
   ],
   "source": [
    "covid_df.location.value_counts()"
   ]
  },
  {
   "cell_type": "code",
   "execution_count": 160,
   "id": "befa3bb1",
   "metadata": {
    "scrolled": true
   },
   "outputs": [
    {
     "data": {
      "text/plain": [
       "0       16008\n",
       "1        1655\n",
       "2         835\n",
       "3         511\n",
       "4         386\n",
       "        ...  \n",
       "199         1\n",
       "262         1\n",
       "274         1\n",
       "269         1\n",
       "4929        1\n",
       "Name: new_deaths, Length: 634, dtype: int64"
      ]
     },
     "execution_count": 160,
     "metadata": {},
     "output_type": "execute_result"
    }
   ],
   "source": [
    "covid_df.new_deaths.value_counts()"
   ]
  },
  {
   "cell_type": "code",
   "execution_count": 161,
   "id": "a08ba9a2",
   "metadata": {
    "scrolled": true
   },
   "outputs": [],
   "source": [
    "covid_df.date = pd.to_datetime(covid_df.date)"
   ]
  },
  {
   "cell_type": "code",
   "execution_count": 162,
   "id": "5d809e67",
   "metadata": {
    "scrolled": true
   },
   "outputs": [
    {
     "data": {
      "text/plain": [
       "212"
      ]
     },
     "execution_count": 162,
     "metadata": {},
     "output_type": "execute_result"
    }
   ],
   "source": [
    "covid_df.location.nunique()"
   ]
  },
  {
   "cell_type": "code",
   "execution_count": 163,
   "id": "9ed1b102",
   "metadata": {
    "scrolled": true
   },
   "outputs": [
    {
     "data": {
      "text/plain": [
       "location                              object\n",
       "date                          datetime64[ns]\n",
       "new_cases                              int64\n",
       "new_deaths                             int64\n",
       "population                           float64\n",
       "aged_65_older_percent                float64\n",
       "gdp_per_capita                       float64\n",
       "hospital_beds_per_thousand           float64\n",
       "dtype: object"
      ]
     },
     "execution_count": 163,
     "metadata": {},
     "output_type": "execute_result"
    }
   ],
   "source": [
    "covid_df.dtypes"
   ]
  },
  {
   "cell_type": "code",
   "execution_count": 164,
   "id": "71c085fe",
   "metadata": {
    "scrolled": true
   },
   "outputs": [],
   "source": [
    "covid_df['location'] = covid_df['location'].astype('str')"
   ]
  },
  {
   "cell_type": "code",
   "execution_count": 165,
   "id": "3903a469",
   "metadata": {
    "scrolled": true
   },
   "outputs": [],
   "source": [
    "# covid_df.location['Nigeria'].value_counts()"
   ]
  },
  {
   "cell_type": "code",
   "execution_count": 166,
   "id": "0d62f6eb",
   "metadata": {
    "scrolled": true
   },
   "outputs": [
    {
     "data": {
      "text/plain": [
       "location                              object\n",
       "date                          datetime64[ns]\n",
       "new_cases                              int64\n",
       "new_deaths                             int64\n",
       "population                           float64\n",
       "aged_65_older_percent                float64\n",
       "gdp_per_capita                       float64\n",
       "hospital_beds_per_thousand           float64\n",
       "dtype: object"
      ]
     },
     "execution_count": 166,
     "metadata": {},
     "output_type": "execute_result"
    }
   ],
   "source": [
    "covid_df.dtypes"
   ]
  },
  {
   "cell_type": "code",
   "execution_count": 167,
   "id": "12c7427d",
   "metadata": {
    "scrolled": true
   },
   "outputs": [
    {
     "data": {
      "text/html": [
       "<div>\n",
       "<style scoped>\n",
       "    .dataframe tbody tr th:only-of-type {\n",
       "        vertical-align: middle;\n",
       "    }\n",
       "\n",
       "    .dataframe tbody tr th {\n",
       "        vertical-align: top;\n",
       "    }\n",
       "\n",
       "    .dataframe thead th {\n",
       "        text-align: right;\n",
       "    }\n",
       "</style>\n",
       "<table border=\"1\" class=\"dataframe\">\n",
       "  <thead>\n",
       "    <tr style=\"text-align: right;\">\n",
       "      <th></th>\n",
       "      <th>new_cases</th>\n",
       "      <th>new_deaths</th>\n",
       "    </tr>\n",
       "  </thead>\n",
       "  <tbody>\n",
       "    <tr>\n",
       "      <th>count</th>\n",
       "      <td>23082.000000</td>\n",
       "      <td>23082.000000</td>\n",
       "    </tr>\n",
       "    <tr>\n",
       "      <th>mean</th>\n",
       "      <td>624.769257</td>\n",
       "      <td>35.629062</td>\n",
       "    </tr>\n",
       "    <tr>\n",
       "      <th>std</th>\n",
       "      <td>5517.309068</td>\n",
       "      <td>330.986941</td>\n",
       "    </tr>\n",
       "    <tr>\n",
       "      <th>min</th>\n",
       "      <td>-2461.000000</td>\n",
       "      <td>-1918.000000</td>\n",
       "    </tr>\n",
       "    <tr>\n",
       "      <th>25%</th>\n",
       "      <td>0.000000</td>\n",
       "      <td>0.000000</td>\n",
       "    </tr>\n",
       "    <tr>\n",
       "      <th>50%</th>\n",
       "      <td>3.000000</td>\n",
       "      <td>0.000000</td>\n",
       "    </tr>\n",
       "    <tr>\n",
       "      <th>75%</th>\n",
       "      <td>55.000000</td>\n",
       "      <td>1.000000</td>\n",
       "    </tr>\n",
       "    <tr>\n",
       "      <th>max</th>\n",
       "      <td>133510.000000</td>\n",
       "      <td>10520.000000</td>\n",
       "    </tr>\n",
       "  </tbody>\n",
       "</table>\n",
       "</div>"
      ],
      "text/plain": [
       "           new_cases    new_deaths\n",
       "count   23082.000000  23082.000000\n",
       "mean      624.769257     35.629062\n",
       "std      5517.309068    330.986941\n",
       "min     -2461.000000  -1918.000000\n",
       "25%         0.000000      0.000000\n",
       "50%         3.000000      0.000000\n",
       "75%        55.000000      1.000000\n",
       "max    133510.000000  10520.000000"
      ]
     },
     "execution_count": 167,
     "metadata": {},
     "output_type": "execute_result"
    }
   ],
   "source": [
    "covid_df[['new_cases', 'new_deaths']].describe()"
   ]
  },
  {
   "cell_type": "code",
   "execution_count": 168,
   "id": "918734ad",
   "metadata": {
    "scrolled": true
   },
   "outputs": [
    {
     "data": {
      "text/html": [
       "<div>\n",
       "<style scoped>\n",
       "    .dataframe tbody tr th:only-of-type {\n",
       "        vertical-align: middle;\n",
       "    }\n",
       "\n",
       "    .dataframe tbody tr th {\n",
       "        vertical-align: top;\n",
       "    }\n",
       "\n",
       "    .dataframe thead th {\n",
       "        text-align: right;\n",
       "    }\n",
       "</style>\n",
       "<table border=\"1\" class=\"dataframe\">\n",
       "  <thead>\n",
       "    <tr style=\"text-align: right;\">\n",
       "      <th></th>\n",
       "      <th>population</th>\n",
       "      <th>aged_65_older_percent</th>\n",
       "    </tr>\n",
       "  </thead>\n",
       "  <tbody>\n",
       "    <tr>\n",
       "      <th>count</th>\n",
       "      <td>2.308200e+04</td>\n",
       "      <td>23082.000000</td>\n",
       "    </tr>\n",
       "    <tr>\n",
       "      <th>mean</th>\n",
       "      <td>1.250256e+08</td>\n",
       "      <td>9.664970</td>\n",
       "    </tr>\n",
       "    <tr>\n",
       "      <th>std</th>\n",
       "      <td>7.832517e+08</td>\n",
       "      <td>6.441437</td>\n",
       "    </tr>\n",
       "    <tr>\n",
       "      <th>min</th>\n",
       "      <td>8.090000e+02</td>\n",
       "      <td>1.144000</td>\n",
       "    </tr>\n",
       "    <tr>\n",
       "      <th>25%</th>\n",
       "      <td>2.083380e+06</td>\n",
       "      <td>3.853000</td>\n",
       "    </tr>\n",
       "    <tr>\n",
       "      <th>50%</th>\n",
       "      <td>9.449321e+06</td>\n",
       "      <td>7.304000</td>\n",
       "    </tr>\n",
       "    <tr>\n",
       "      <th>75%</th>\n",
       "      <td>3.481387e+07</td>\n",
       "      <td>14.952000</td>\n",
       "    </tr>\n",
       "    <tr>\n",
       "      <th>max</th>\n",
       "      <td>7.794799e+09</td>\n",
       "      <td>27.049000</td>\n",
       "    </tr>\n",
       "  </tbody>\n",
       "</table>\n",
       "</div>"
      ],
      "text/plain": [
       "         population  aged_65_older_percent\n",
       "count  2.308200e+04           23082.000000\n",
       "mean   1.250256e+08               9.664970\n",
       "std    7.832517e+08               6.441437\n",
       "min    8.090000e+02               1.144000\n",
       "25%    2.083380e+06               3.853000\n",
       "50%    9.449321e+06               7.304000\n",
       "75%    3.481387e+07              14.952000\n",
       "max    7.794799e+09              27.049000"
      ]
     },
     "execution_count": 168,
     "metadata": {},
     "output_type": "execute_result"
    }
   ],
   "source": [
    "covid_df[['population', 'aged_65_older_percent']].describe()"
   ]
  },
  {
   "cell_type": "code",
   "execution_count": 169,
   "id": "20ef30da",
   "metadata": {
    "scrolled": true
   },
   "outputs": [
    {
     "name": "stdout",
     "output_type": "stream",
     "text": [
      "new_cases                     3.043938e+07\n",
      "new_deaths                    1.095476e+05\n",
      "population                    6.134566e+17\n",
      "aged_65_older_percent         4.149031e+01\n",
      "gdp_per_capita                4.427778e+08\n",
      "hospital_beds_per_thousand    6.795104e+00\n",
      "dtype: float64\n"
     ]
    }
   ],
   "source": [
    "variance = np.var(covid_df)\n",
    "print(variance)"
   ]
  },
  {
   "cell_type": "code",
   "execution_count": null,
   "id": "aa7deca2",
   "metadata": {
    "scrolled": true
   },
   "outputs": [],
   "source": []
  },
  {
   "cell_type": "code",
   "execution_count": null,
   "id": "d5a8e30b",
   "metadata": {
    "scrolled": true
   },
   "outputs": [],
   "source": []
  },
  {
   "cell_type": "code",
   "execution_count": null,
   "id": "4c50ca3d",
   "metadata": {
    "scrolled": true
   },
   "outputs": [],
   "source": []
  },
  {
   "cell_type": "code",
   "execution_count": null,
   "id": "67d947b6",
   "metadata": {
    "scrolled": true
   },
   "outputs": [],
   "source": []
  }
 ],
 "metadata": {
  "kernelspec": {
   "display_name": "Python 3 (ipykernel)",
   "language": "python",
   "name": "python3"
  },
  "language_info": {
   "codemirror_mode": {
    "name": "ipython",
    "version": 3
   },
   "file_extension": ".py",
   "mimetype": "text/x-python",
   "name": "python",
   "nbconvert_exporter": "python",
   "pygments_lexer": "ipython3",
   "version": "3.9.12"
  }
 },
 "nbformat": 4,
 "nbformat_minor": 5
}
